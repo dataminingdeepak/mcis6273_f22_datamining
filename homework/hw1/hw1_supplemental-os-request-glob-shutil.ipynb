{
 "cells": [
  {
   "cell_type": "markdown",
   "id": "0e5ad0b4-b120-452f-9bb0-483cf38570b1",
   "metadata": {},
   "source": [
    "# HW1 Supplemental Notebook"
   ]
  },
  {
   "cell_type": "markdown",
   "id": "661cc376-b6ea-4104-9de8-b50918baaa5a",
   "metadata": {},
   "source": [
    "## [`requests`](https://requests.readthedocs.io/en/latest/)\n",
    "\n",
    "We can use [`requests`](https://requests.readthedocs.io/en/latest/) to get things from the web -- whether webpages, data, etc."
   ]
  },
  {
   "cell_type": "code",
   "execution_count": 1,
   "id": "fcda1e66-8360-49c0-9c1d-f70d3320f122",
   "metadata": {},
   "outputs": [],
   "source": [
    "import requests"
   ]
  },
  {
   "cell_type": "code",
   "execution_count": 2,
   "id": "7b4b8dae-7715-4848-a05c-46ec5e7b5b61",
   "metadata": {},
   "outputs": [],
   "source": [
    "r = requests.get(\"https://raw.githubusercontent.com/kmsaumcis/mcis6273_f17_datamining/master/homework/hw1/bank-data.csv\")\n",
    "\n",
    "if r.status_code == 200: # HTTP OK\n",
    "    data = r.text # you can also use r.content if there is binary data (or utf-8 encoded strings)"
   ]
  },
  {
   "cell_type": "code",
   "execution_count": 3,
   "id": "77e3918b-d6a4-47ec-b177-956d4a6731f4",
   "metadata": {},
   "outputs": [
    {
     "data": {
      "text/plain": [
       "['id,age,sex,region,income,married,children,car,save_act,current_act,mortgage,pep',\n",
       " 'ID12101,48,FEMALE,INNER_CITY,17546,NO,1,NO,NO,NO,NO,YES',\n",
       " 'ID12102,40,MALE,TOWN,30085.1,YES,3,YES,NO,YES,YES,NO',\n",
       " 'ID12103,51,FEMALE,INNER_CITY,16575.4,YES,0,YES,YES,YES,NO,NO',\n",
       " 'ID12104,23,FEMALE,TOWN,20375.4,YES,3,NO,NO,YES,NO,NO',\n",
       " 'ID12105,57,FEMALE,RURAL,50576.3,YES,0,NO,YES,NO,NO,NO',\n",
       " 'ID12106,57,FEMALE,TOWN,37869.6,YES,2,NO,YES,YES,NO,YES',\n",
       " 'ID12107,22,MALE,RURAL,8877.07,NO,0,NO,NO,YES,NO,YES',\n",
       " 'ID12108,58,MALE,TOWN,24946.6,YES,0,YES,YES,YES,NO,NO',\n",
       " 'ID12109,37,FEMALE,SUBURBAN,25304.3,YES,2,YES,NO,NO,NO,NO']"
      ]
     },
     "execution_count": 3,
     "metadata": {},
     "output_type": "execute_result"
    }
   ],
   "source": [
    "data.split()[:10] # the first 10 lines"
   ]
  },
  {
   "cell_type": "markdown",
   "id": "2114436f-16a0-40cd-a80f-a0b4c89bbe1d",
   "metadata": {},
   "source": [
    "## [`zipfile`](https://docs.python.org/3/library/zipfile.html)"
   ]
  },
  {
   "cell_type": "markdown",
   "id": "ef3971c2-eb5e-4706-bfab-57ecbd6a8034",
   "metadata": {},
   "source": [
    "Let's say we have a zip file we would like to load:\n",
    "\n",
    "[https://github.com/kmsaumcis/mcis6273_f17_datamining/archive/refs/heads/master.zip](https://github.com/kmsaumcis/mcis6273_f17_datamining/archive/refs/heads/master.zip)\n",
    "\n",
    "Let's use r`requests` to load it, and then use zipfile to unzip it."
   ]
  },
  {
   "cell_type": "code",
   "execution_count": 4,
   "id": "fe0fea28-bd02-4366-b33c-6d93d147893c",
   "metadata": {},
   "outputs": [],
   "source": [
    "r = requests.get(\"https://github.com/kmsaumcis/mcis6273_f17_datamining/archive/refs/heads/master.zip\")\n",
    "\n",
    "if r.status_code == 200:\n",
    "    data = r.content"
   ]
  },
  {
   "cell_type": "markdown",
   "id": "efd099ec-8702-4186-8c54-ff9a769a85fd",
   "metadata": {},
   "source": [
    "Now we have the zipfile, let's manipulate it.  It is best if we just drop the file to the filesystem:"
   ]
  },
  {
   "cell_type": "code",
   "execution_count": 5,
   "id": "3476de6b-c45e-4b2e-a713-5749058694e9",
   "metadata": {},
   "outputs": [],
   "source": [
    "with open(\"master.zip\", \"wb\") as fo:\n",
    "    fo.write(data)"
   ]
  },
  {
   "cell_type": "markdown",
   "id": "9a9722b9-b82a-4f2c-8288-83981a511264",
   "metadata": {},
   "source": [
    "Using [zipfile](https://docs.python.org/3/library/zipfile.html) we can extract:"
   ]
  },
  {
   "cell_type": "code",
   "execution_count": 6,
   "id": "112449c9-b89e-46b8-be9c-e7d7c4a71208",
   "metadata": {},
   "outputs": [],
   "source": [
    "import zipfile\n",
    "zipfile.ZipFile(\"master.zip\").extractall()\n",
    "\n",
    "# That's all -- the files are now unzipped"
   ]
  },
  {
   "cell_type": "markdown",
   "id": "c47a247f-c8e3-4a8f-9b63-84efefe67da8",
   "metadata": {},
   "source": [
    "# [`os`](https://docs.python.org/3/library/os.html?highlight=os#module-os), [`glob`](https://docs.python.org/3/library/glob.html?highlight=glob#module-glob), [`shutil`](https://docs.python.org/3/library/shutil.html?highlight=shutil#module-shutil)\n",
    "\n",
    "Now that we have the zipfiles and extracted them, we need to learn a few things about the [`os`](https://docs.python.org/3/library/os.html?highlight=os#module-os) library.\n",
    "\n",
    "Let's imaging that we want to create a directory called `./ipynb` and search the unzipped folder for all `.ipynb` files.  The we will take those files and **copy** them to the `./ipynb` folder.\n",
    "\n",
    "There is one trick we will use to pull this off using the [`glob`](https://docs.python.org/3/library/glob.html?highlight=glob#module-glob) library."
   ]
  },
  {
   "cell_type": "code",
   "execution_count": 7,
   "id": "6a2735ac-e424-452e-83e7-122fe3a48124",
   "metadata": {},
   "outputs": [],
   "source": [
    "import os     # for file operations\n",
    "import glob   # for efficient file searching\n",
    "import shutil # for file copying"
   ]
  },
  {
   "cell_type": "code",
   "execution_count": 8,
   "id": "513f1038-e523-4555-b372-8386d8a5d218",
   "metadata": {},
   "outputs": [
    {
     "data": {
      "text/plain": [
       "['mcis6273_f17_datamining-master/lecture_notes/05_clustering_a.ipynb',\n",
       " 'mcis6273_f17_datamining-master/lecture_notes/13_big_data.ipynb',\n",
       " 'mcis6273_f17_datamining-master/lecture_notes/01_introduction.ipynb',\n",
       " 'mcis6273_f17_datamining-master/lecture_notes/12_text_mining.ipynb',\n",
       " 'mcis6273_f17_datamining-master/lecture_notes/07_classification_a_dt_bayes.ipynb',\n",
       " 'mcis6273_f17_datamining-master/lecture_notes/04_pattern_mining.ipynb',\n",
       " 'mcis6273_f17_datamining-master/lecture_notes/08_classification_b_svm_nn.ipynb',\n",
       " 'mcis6273_f17_datamining-master/lecture_notes/03_distance_metrics.ipynb',\n",
       " 'mcis6273_f17_datamining-master/lecture_notes/09_classification_c_prediction_eval.ipynb',\n",
       " 'mcis6273_f17_datamining-master/lecture_notes/02_preprocessing.ipynb',\n",
       " 'mcis6273_f17_datamining-master/lecture_notes/06_clustering_b.ipynb',\n",
       " 'mcis6273_f17_datamining-master/lecture_notes/10_ensemble_methods.ipynb',\n",
       " 'mcis6273_f17_datamining-master/lecture_notes/11_visualization.ipynb']"
      ]
     },
     "execution_count": 8,
     "metadata": {},
     "output_type": "execute_result"
    }
   ],
   "source": [
    "nb_file_list = glob.glob(\"mcis6273_f17_datamining-master/**/*.ipynb\")\n",
    "nb_file_list"
   ]
  },
  {
   "cell_type": "markdown",
   "id": "69ed4145-49c5-44d5-be43-0f5617faae97",
   "metadata": {},
   "source": [
    "Notice this is just a list of files.  We can use that list to **copy** using [`shutil`](https://docs.python.org/3/library/shutil.html?highlight=shutil#module-shutil)."
   ]
  },
  {
   "cell_type": "code",
   "execution_count": 9,
   "id": "03ee6187-e803-49e8-9ae7-2bf1cdc7a8d4",
   "metadata": {},
   "outputs": [],
   "source": [
    "# make a directory\n",
    "os.mkdir(\"ipynb\")"
   ]
  },
  {
   "cell_type": "code",
   "execution_count": 10,
   "id": "137571df-ff2e-4639-b7d7-5aa9732b25dc",
   "metadata": {},
   "outputs": [
    {
     "data": {
      "text/plain": [
       "'ipynb/05_clustering_a.ipynb'"
      ]
     },
     "execution_count": 10,
     "metadata": {},
     "output_type": "execute_result"
    }
   ],
   "source": [
    "# copy the first file into the ipynb\n",
    "shutil.copy(nb_file_list[0], \"ipynb\")"
   ]
  },
  {
   "cell_type": "markdown",
   "id": "b55d982e-ca76-47a8-93fa-d53b2ef6f55d",
   "metadata": {},
   "source": [
    "You can now imagine how to produce a loop to copy all the files in the list to the directory.\n",
    "\n",
    "$\\Xi$"
   ]
  }
 ],
 "metadata": {
  "kernelspec": {
   "display_name": "Python [conda env:sau-f2022]",
   "language": "python",
   "name": "conda-env-sau-f2022-py"
  },
  "language_info": {
   "codemirror_mode": {
    "name": "ipython",
    "version": 3
   },
   "file_extension": ".py",
   "mimetype": "text/x-python",
   "name": "python",
   "nbconvert_exporter": "python",
   "pygments_lexer": "ipython3",
   "version": "3.10.5"
  }
 },
 "nbformat": 4,
 "nbformat_minor": 5
}
