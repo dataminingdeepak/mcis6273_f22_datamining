{
 "cells": [
  {
   "cell_type": "code",
   "execution_count": 1,
   "id": "2a5e892a-4f08-4aa3-9c0a-c92aec7485a1",
   "metadata": {},
   "outputs": [],
   "source": [
    "import pandas as pd\n",
    "import requests\n",
    "import zipfile\n",
    "import os"
   ]
  },
  {
   "cell_type": "markdown",
   "id": "21afb1dd-8087-4607-9a21-377b30535052",
   "metadata": {},
   "source": [
    "## PULL DATA FROM A FILE AND STORE IN DATAFRAME"
   ]
  },
  {
   "cell_type": "code",
   "execution_count": 2,
   "id": "ac11c826-3f32-4a45-a7d0-567f1b43409a",
   "metadata": {},
   "outputs": [],
   "source": [
    "year = 2003\n",
    "\n",
    "if (not os.path.exists(str(year))):\n",
    "    os.mkdir(str(year))\n",
    "\n",
    "url = f\"https://static.nhtsa.gov/nhtsa/downloads/FARS/{year}/National/FARS{year}NationalCSV.zip\"\n",
    "\n",
    "r = requests.get(url)\n",
    "\n",
    "if r.status_code == 200:\n",
    "    zipf = f\"{year}/{url.split('/')[-1]}\"\n",
    "\n",
    "    with open(zipf, \"wb\") as fo:\n",
    "        fo.write(r.content)\n",
    "\n",
    "        # unzip\n",
    "        zipfile.ZipFile(zipf).extractall(str(year))            "
   ]
  },
  {
   "cell_type": "code",
   "execution_count": 3,
   "id": "951c568a-68cf-4387-bee2-4e766c6c52e2",
   "metadata": {},
   "outputs": [],
   "source": [
    "df_person = pd.read_csv(\"2003/PERSON.CSV\")"
   ]
  },
  {
   "cell_type": "markdown",
   "id": "6d25ede7-13f7-4f61-8b86-4557e2146123",
   "metadata": {},
   "source": [
    "## REVIEW COLUMNS FOR DATA OF INTEREST"
   ]
  },
  {
   "cell_type": "code",
   "execution_count": 4,
   "id": "cd2da43d-8f38-4549-9a70-82e54da552fb",
   "metadata": {},
   "outputs": [
    {
     "data": {
      "text/plain": [
       "Index(['STATE', 'VEH_NO', 'PER_NO', 'N_MOT_NO', 'AGE', 'SEX', 'PER_TYP',\n",
       "       'SEAT_POS', 'REST_USE', 'AIR_BAG', 'EJECTION', 'EJ_PATH', 'EXTRICAT',\n",
       "       'LOCATION', 'DRINKING', 'ALC_DET', 'ATST_TYP', 'ALC_RES', 'DRUGS',\n",
       "       'DRUG_DET', 'DRUGTST1', 'DRUGRES1', 'DRUGTST2', 'DRUGRES2', 'DRUGTST3',\n",
       "       'DRUGRES3', 'INJ_SEV', 'HOSPITAL', 'DEATH_MO', 'DEATH_DA', 'DEATH_HR',\n",
       "       'DEATH_MN', 'LAG_HRS', 'LAG_MINS', 'RACE', 'HISPANIC', 'P_CF1', 'P_CF2',\n",
       "       'P_CF3', 'WORK_INJ', 'DOA', 'ST_CASE', 'DEATH_YR', 'DEATH_TM',\n",
       "       'CERT_NO', 'MAKE', 'BODY_TYP', 'ROLLOVER', 'TOW_VEH', 'SPEC_USE',\n",
       "       'EMER_USE', 'IMPACT1', 'IMPACT2', 'IMPACTS', 'FIRE_EXP', 'MAK_MOD',\n",
       "       'MOD_YEAR', 'VINA_MOD', 'SER_TR', 'VIN_BT', 'WHLBS_SH', 'WHLBS_LG',\n",
       "       'MCYCL_DS', 'VIN_WGT', 'WGTCD_TR', 'COUNTY', 'MONTH', 'DAY', 'HOUR',\n",
       "       'MINUTE', 'VE_FORMS', 'ROAD_FNC', 'HARM_EV', 'MAN_COLL', 'SCH_BUS'],\n",
       "      dtype='object')"
      ]
     },
     "execution_count": 4,
     "metadata": {},
     "output_type": "execute_result"
    }
   ],
   "source": [
    "df_person.columns"
   ]
  },
  {
   "cell_type": "markdown",
   "id": "c73aa45a-201c-4970-b235-9b9508bdce0e",
   "metadata": {},
   "source": [
    "## USE [`cut()`](https://pandas.pydata.org/pandas-docs/stable/reference/api/pandas.cut.html) TO BIN THE DATA AS PER THE GRAPH"
   ]
  },
  {
   "cell_type": "code",
   "execution_count": 5,
   "id": "c12d41b3-9cc4-453c-a02f-d23e8ebc3698",
   "metadata": {},
   "outputs": [
    {
     "data": {
      "text/plain": [
       "0          (16, 24]\n",
       "1          (34, 44]\n",
       "2          (54, 64]\n",
       "3          (24, 34]\n",
       "4          (24, 34]\n",
       "            ...    \n",
       "101857     (16, 24]\n",
       "101858     (16, 24]\n",
       "101859    (64, 120]\n",
       "101860     (16, 24]\n",
       "101861     (16, 24]\n",
       "Name: AGE, Length: 101862, dtype: category\n",
       "Categories (6, interval[int64, right]): [(16, 24] < (24, 34] < (34, 44] < (44, 54] < (54, 64] < (64, 120]]"
      ]
     },
     "execution_count": 5,
     "metadata": {},
     "output_type": "execute_result"
    }
   ],
   "source": [
    "pd.cut(df_person.loc[:,'AGE'],\n",
    "      [16, 24, 34, 44, 54, 64, 120]\n",
    "      )"
   ]
  },
  {
   "cell_type": "markdown",
   "id": "114508d9-d3ae-4e84-a965-39d63505d60a",
   "metadata": {},
   "source": [
    "## PLOT THE DATA"
   ]
  },
  {
   "cell_type": "code",
   "execution_count": 8,
   "id": "a3f47ee4-0c6b-4f2a-a31b-0e2b7c3d8a85",
   "metadata": {},
   "outputs": [
    {
     "data": {
      "text/plain": [
       "(16, 24]     23176\n",
       "(24, 34]     16729\n",
       "(34, 44]     15628\n",
       "(0, 16]      12766\n",
       "(44, 54]     12694\n",
       "(64, 120]    12635\n",
       "(54, 64]      7770\n",
       "Name: AGE, dtype: int64"
      ]
     },
     "execution_count": 8,
     "metadata": {},
     "output_type": "execute_result"
    }
   ],
   "source": [
    "pd.cut(df_person.loc[:,'AGE'],\n",
    "      [0, 16, 24, 34, 44, 54, 64, 120]\n",
    "      ) \\\n",
    "    .value_counts()"
   ]
  },
  {
   "cell_type": "code",
   "execution_count": 9,
   "id": "440e8a4c-8198-4862-bf55-17c137b87956",
   "metadata": {},
   "outputs": [
    {
     "data": {
      "text/plain": [
       "<AxesSubplot:>"
      ]
     },
     "execution_count": 9,
     "metadata": {},
     "output_type": "execute_result"
    },
    {
     "data": {
      "image/png": "[encoded data removed]",
      "text/plain": [
       "<Figure size 432x288 with 1 Axes>"
      ]
     },
     "metadata": {
      "needs_background": "light"
     },
     "output_type": "display_data"
    }
   ],
   "source": [
    "pd.cut(df_person.loc[:,'AGE'],\n",
    "      [0, 16, 24, 34, 44, 54, 64, 120]\n",
    "      ) \\\n",
    "    .value_counts() \\\n",
    "    .sort_index() \\\n",
    "    .plot(kind='bar')"
   ]
  },
  {
   "cell_type": "code",
   "execution_count": null,
   "id": "a07df8dd-6bab-4069-92e2-0dcac9bd4a44",
   "metadata": {},
   "outputs": [],
   "source": []
  }
 ],
 "metadata": {
  "kernelspec": {
   "display_name": "Python 3 (ipykernel)",
   "language": "python",
   "name": "python3"
  },
  "language_info": {
   "codemirror_mode": {
    "name": "ipython",
    "version": 3
   },
   "file_extension": ".py",
   "mimetype": "text/x-python",
   "name": "python",
   "nbconvert_exporter": "python",
   "pygments_lexer": "ipython3",
   "version": "3.10.5"
  }
 },
 "nbformat": 4,
 "nbformat_minor": 5
}
